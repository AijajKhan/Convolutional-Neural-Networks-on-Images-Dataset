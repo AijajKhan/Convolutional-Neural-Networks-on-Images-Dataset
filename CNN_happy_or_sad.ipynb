{
  "nbformat": 4,
  "nbformat_minor": 0,
  "metadata": {
    "colab": {
      "name": "Exercise4-Question.ipynb",
      "version": "0.3.2",
      "provenance": []
    },
    "kernelspec": {
      "name": "python3",
      "display_name": "Python 3"
    }
  },
  "cells": [
    {
      "metadata": {
        "id": "UncprnB0ymAE",
        "colab_type": "text"
      },
      "cell_type": "markdown",
      "source": [
        "Below is code with a link to a happy or sad dataset which contains 80 images, 40 happy and 40 sad. \n",
        "Create a convolutional neural network that trains to 100% accuracy on these images,  which cancels training upon hitting training accuracy of >.999\n",
        "\n",
        "Hint -- it will work best with 3 convolutional layers."
      ]
    },
    {
      "metadata": {
        "id": "7Vti6p3PxmpS",
        "colab_type": "code",
        "colab": {
          "base_uri": "https://localhost:8080/",
          "height": 204
        },
        "outputId": "5ad1ea14-8238-4d35-97cc-de5a83b6c666"
      },
      "cell_type": "code",
      "source": [
        "import tensorflow as tf\n",
        "import os\n",
        "import zipfile\n",
        "\n",
        "\n",
        "DESIRED_ACCURACY = 0.999\n",
        "\n",
        "!wget --no-check-certificate \\\n",
        "    \"https://storage.googleapis.com/laurencemoroney-blog.appspot.com/happy-or-sad.zip\" \\\n",
        "    -O \"/tmp/happy-or-sad.zip\"\n",
        "\n",
        "'''zip_ref = zipfile.ZipFile(\"/tmp/happy-or-sad.zip\", 'r')\n",
        "zip_ref.extractall(\"/tmp/h-or-s\")\n",
        "zip_ref.close()'''\n",
        "\n",
        "zip_ref=zipfile.ZipFile(\"/tmp/happy-or-sad.zip\",\"r\")\n",
        "zip_ref.extractall(\"/tmp/h-or-s\")\n",
        "zip_ref.close()\n",
        "\n",
        "class myCallback(tf.keras.callbacks.Callback):\n",
        "  def on_epoch_end(self,epochs,logs={}):\n",
        "    if logs.get(\"acc\")>0.999:\n",
        "      print(\" Reached 99.9% accuracy so terminating training!\")\n",
        "      self.model.stop_training=True\n",
        "  # Your Code\n",
        "\n",
        "callbackz = myCallback()"
      ],
      "execution_count": 6,
      "outputs": [
        {
          "output_type": "stream",
          "text": [
            "--2019-04-26 11:06:23--  https://storage.googleapis.com/laurencemoroney-blog.appspot.com/happy-or-sad.zip\n",
            "Resolving storage.googleapis.com (storage.googleapis.com)... 74.125.142.128, 2607:f8b0:400e:c09::80\n",
            "Connecting to storage.googleapis.com (storage.googleapis.com)|74.125.142.128|:443... connected.\n",
            "HTTP request sent, awaiting response... 200 OK\n",
            "Length: 2670333 (2.5M) [application/zip]\n",
            "Saving to: ‘/tmp/happy-or-sad.zip’\n",
            "\n",
            "\r/tmp/happy-or-sad.z   0%[                    ]       0  --.-KB/s               \r/tmp/happy-or-sad.z 100%[===================>]   2.55M  --.-KB/s    in 0.02s   \n",
            "\n",
            "2019-04-26 11:06:23 (141 MB/s) - ‘/tmp/happy-or-sad.zip’ saved [2670333/2670333]\n",
            "\n"
          ],
          "name": "stdout"
        }
      ]
    },
    {
      "metadata": {
        "id": "6DLGbXXI1j_V",
        "colab_type": "code",
        "colab": {
          "base_uri": "https://localhost:8080/",
          "height": 442
        },
        "outputId": "460e77c7-4c63-4ff9-cc9f-2cbd7cb07003"
      },
      "cell_type": "code",
      "source": [
        "# This Code Block should Define and Compile the Model\n",
        "model = tf.keras.models.Sequential([\n",
        "tf.keras.layers.Conv2D(16,(3,3),input_shape=(150,150,3),activation=tf.nn.relu),\n",
        "tf.keras.layers.MaxPooling2D(2,2),\n",
        "tf.keras.layers.Conv2D(32,(3,3),activation=tf.nn.relu),\n",
        "tf.keras.layers.MaxPooling2D(2,2),\n",
        "tf.keras.layers.Conv2D(64,(3,3),activation=tf.nn.relu),\n",
        "tf.keras.layers.MaxPooling2D(2,2),\n",
        "tf.keras.layers.Flatten(),\n",
        "tf.keras.layers.Dense(512,activation=tf.nn.relu),\n",
        "tf.keras.layers.Dense(1,activation=tf.nn.sigmoid)\n",
        "])\n",
        "\n",
        "from tensorflow.keras.optimizers import RMSprop\n",
        "\n",
        "model.compile(optimizer=tf.train.RMSPropOptimizer(learning_rate=0.001),loss=\"binary_crossentropy\",metrics=[\"accuracy\"])\n",
        "\n",
        "model.summary()"
      ],
      "execution_count": 7,
      "outputs": [
        {
          "output_type": "stream",
          "text": [
            "_________________________________________________________________\n",
            "Layer (type)                 Output Shape              Param #   \n",
            "=================================================================\n",
            "conv2d_3 (Conv2D)            (None, 148, 148, 16)      448       \n",
            "_________________________________________________________________\n",
            "max_pooling2d_3 (MaxPooling2 (None, 74, 74, 16)        0         \n",
            "_________________________________________________________________\n",
            "conv2d_4 (Conv2D)            (None, 72, 72, 32)        4640      \n",
            "_________________________________________________________________\n",
            "max_pooling2d_4 (MaxPooling2 (None, 36, 36, 32)        0         \n",
            "_________________________________________________________________\n",
            "conv2d_5 (Conv2D)            (None, 34, 34, 64)        18496     \n",
            "_________________________________________________________________\n",
            "max_pooling2d_5 (MaxPooling2 (None, 17, 17, 64)        0         \n",
            "_________________________________________________________________\n",
            "flatten_1 (Flatten)          (None, 18496)             0         \n",
            "_________________________________________________________________\n",
            "dense_2 (Dense)              (None, 512)               9470464   \n",
            "_________________________________________________________________\n",
            "dense_3 (Dense)              (None, 1)                 513       \n",
            "=================================================================\n",
            "Total params: 9,494,561\n",
            "Trainable params: 9,494,561\n",
            "Non-trainable params: 0\n",
            "_________________________________________________________________\n"
          ],
          "name": "stdout"
        }
      ]
    },
    {
      "metadata": {
        "id": "4Ap9fUJE1vVu",
        "colab_type": "code",
        "colab": {
          "base_uri": "https://localhost:8080/",
          "height": 34
        },
        "outputId": "4d3dff10-6d1d-47fd-8dbd-6dff116c2a2d"
      },
      "cell_type": "code",
      "source": [
        "# This code block should create an instance of an ImageDataGenerator called train_datagen \n",
        "# And a train_generator by calling train_datagen.flow_from_directory\n",
        "from tensorflow.keras.preprocessing.image import ImageDataGenerator\n",
        "\n",
        "train_datagen=ImageDataGenerator(rescale=1/255)\n",
        "\n",
        "train_generator=train_datagen.flow_from_directory(\"/tmp/h-or-s\",target_size=(150,150),batch_size=8,class_mode=\"binary\")\n",
        "\n",
        "        # Your Code Here)\n",
        "\n",
        "# Expected output: 'Found 80 images belonging to 2 classes'"
      ],
      "execution_count": 8,
      "outputs": [
        {
          "output_type": "stream",
          "text": [
            "Found 80 images belonging to 2 classes.\n"
          ],
          "name": "stdout"
        }
      ]
    },
    {
      "metadata": {
        "id": "48dLm13U1-Le",
        "colab_type": "code",
        "colab": {
          "base_uri": "https://localhost:8080/",
          "height": 680
        },
        "outputId": "ad003a3b-ea49-42d2-8304-88a0ef35fee2"
      },
      "cell_type": "code",
      "source": [
        "# This code block should call model.fit_generator and train for\n",
        "# a number of epochs. \n",
        "history=model.fit_generator(train_generator,epochs=20,steps_per_epoch=2,callbacks=[callbackz],verbose=1)\n",
        "      # Your Code Here)\n",
        "    \n",
        "# Expected output: \"Reached 99.9% accuracy so cancelling training!\"\""
      ],
      "execution_count": 9,
      "outputs": [
        {
          "output_type": "stream",
          "text": [
            "Epoch 1/20\n",
            "10/10 [==============================] - 3s 269ms/step - loss: 0.7008 - acc: 0.5000\n",
            "Epoch 2/20\n",
            "10/10 [==============================] - 3s 287ms/step - loss: 0.6927 - acc: 0.5250\n",
            "Epoch 3/20\n",
            "10/10 [==============================] - 3s 282ms/step - loss: 0.6848 - acc: 0.7125\n",
            "Epoch 4/20\n",
            "10/10 [==============================] - 3s 287ms/step - loss: 0.6783 - acc: 0.7375\n",
            "Epoch 5/20\n",
            "10/10 [==============================] - 3s 280ms/step - loss: 0.6568 - acc: 0.7625\n",
            "Epoch 6/20\n",
            "10/10 [==============================] - 3s 278ms/step - loss: 0.6396 - acc: 0.7375\n",
            "Epoch 7/20\n",
            "10/10 [==============================] - 3s 290ms/step - loss: 0.5172 - acc: 0.7250\n",
            "Epoch 8/20\n",
            "10/10 [==============================] - 3s 283ms/step - loss: 0.4934 - acc: 0.7500\n",
            "Epoch 9/20\n",
            "10/10 [==============================] - 3s 284ms/step - loss: 0.2808 - acc: 0.8875\n",
            "Epoch 10/20\n",
            "10/10 [==============================] - 3s 286ms/step - loss: 0.3662 - acc: 0.8500\n",
            "Epoch 11/20\n",
            "10/10 [==============================] - 3s 283ms/step - loss: 0.2152 - acc: 0.9375\n",
            "Epoch 12/20\n",
            "10/10 [==============================] - 3s 286ms/step - loss: 0.1902 - acc: 0.9375\n",
            "Epoch 13/20\n",
            "10/10 [==============================] - 3s 281ms/step - loss: 0.2182 - acc: 0.9250\n",
            "Epoch 14/20\n",
            "10/10 [==============================] - 3s 288ms/step - loss: 0.1505 - acc: 0.9625\n",
            "Epoch 15/20\n",
            "10/10 [==============================] - 3s 286ms/step - loss: 0.1394 - acc: 0.9500\n",
            "Epoch 16/20\n",
            "10/10 [==============================] - 3s 281ms/step - loss: 0.1511 - acc: 0.9375\n",
            "Epoch 17/20\n",
            "10/10 [==============================] - 3s 290ms/step - loss: 0.0778 - acc: 0.9625\n",
            "Epoch 18/20\n",
            "10/10 [==============================] - 3s 285ms/step - loss: 0.0222 - acc: 0.9875\n",
            "Epoch 19/20\n",
            " 9/10 [==========================>...] - ETA: 0s - loss: 0.0051 - acc: 1.0000 Reached 99.9% accuracy so terminating training!\n",
            "10/10 [==============================] - 3s 287ms/step - loss: 0.0046 - acc: 1.0000\n"
          ],
          "name": "stdout"
        }
      ]
    }
  ]
}